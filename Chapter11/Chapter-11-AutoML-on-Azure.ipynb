{
 "cells": [
  {
   "cell_type": "markdown",
   "metadata": {},
   "source": [
    "# Create a real-time scoring endpoint with ACI"
   ]
  },
  {
   "cell_type": "code",
   "execution_count": null,
   "metadata": {},
   "outputs": [],
   "source": [
    "from azureml.core import Workspace, Dataset, Datastore\n",
    "from azureml.core import Experiment, Environment, Model\n",
    "from azureml.core.compute import ComputeTarget, AksCompute"
   ]
  },
  {
   "cell_type": "code",
   "execution_count": null,
   "metadata": {},
   "outputs": [],
   "source": [
    "from azureml.core.model import InferenceConfig\n",
    "from azureml.core.webservice import AciWebservice, AksWebservice\n",
    "from azureml.train.automl.run import AutoMLRun"
   ]
  },
  {
   "cell_type": "code",
   "execution_count": null,
   "metadata": {},
   "outputs": [],
   "source": [
    "import pandas as pd\n",
    "import numpy as np\n",
    "import random as r\n",
    "import os\n",
    "import requests\n",
    "import json"
   ]
  },
  {
   "cell_type": "code",
   "execution_count": null,
   "metadata": {},
   "outputs": [],
   "source": [
    "ws = Workspace.from_config()"
   ]
  },
  {
   "cell_type": "code",
   "execution_count": null,
   "metadata": {},
   "outputs": [],
   "source": [
    "dataset_name = \"Diabetes Sample\"\n",
    "dataset = Dataset.get_by_name(ws, dataset_name, version='latest')\n"
   ]
  },
  {
   "cell_type": "code",
   "execution_count": null,
   "metadata": {},
   "outputs": [],
   "source": [
    "datastore = Datastore.get_default(ws)\n",
    "my_datastore_name = 'workspaceblobstore'\n",
    "my_datastore = Datastore.get(ws, my_datastore_name)"
   ]
  },
  {
   "cell_type": "code",
   "execution_count": null,
   "metadata": {},
   "outputs": [],
   "source": [
    "environment = Environment.get(ws, 'AzureML-AutoML')"
   ]
  },
  {
   "cell_type": "code",
   "execution_count": null,
   "metadata": {},
   "outputs": [],
   "source": [
    "model = Model(ws, 'Diabetes-AllData-Regression-AutoML')"
   ]
  },
  {
   "cell_type": "code",
   "execution_count": null,
   "metadata": {},
   "outputs": [],
   "source": [
    "experiment = Experiment(ws,'Diabetes-Sample-Regression')\n",
    "runID = 'AutoML_e0082cf3-ba83-401f-9220-3e51f66d6544'"
   ]
  },
  {
   "cell_type": "code",
   "execution_count": null,
   "metadata": {},
   "outputs": [],
   "source": [
    "run = AutoMLRun(experiment, runID)"
   ]
  },
  {
   "cell_type": "code",
   "execution_count": null,
   "metadata": {},
   "outputs": [],
   "source": [
    "best_run, fitted_model = run.get_output()"
   ]
  },
  {
   "cell_type": "code",
   "execution_count": null,
   "metadata": {},
   "outputs": [],
   "source": [
    "os.makedirs('Real_Time_Scripts', exist_ok=True)  "
   ]
  },
  {
   "cell_type": "code",
   "execution_count": null,
   "metadata": {},
   "outputs": [],
   "source": [
    "# Specify names for your scoring script and environment file\n",
    "script_path = 'Real_Time_Scripts/Diabetes_Inference.py'\n",
    "best_run.download_file('outputs/scoring_file_v_1_0_0.py', script_path)"
   ]
  },
  {
   "cell_type": "code",
   "execution_count": null,
   "metadata": {
    "scrolled": true
   },
   "outputs": [],
   "source": [
    "# Give your ACI deployment a name\n",
    "aci_service_name = 'diabetes-scoring-aci'\n",
    "\n",
    "# Set your scoring script and environment file\n",
    "inference_config = InferenceConfig(entry_script=script_path, environment = environment)\n",
    "\n",
    "# Set your ACI configuration options\n",
    "aci_config = AciWebservice.deploy_configuration(cpu_cores = 1, \n",
    "                                               memory_gb = 1, \n",
    "                                               tags = {'Project': 'Diabetes'}, \n",
    "                                               description = 'Diabetes Real-Time ACI Deployment')\n",
    "\n",
    "# Deploy your model to ACI\n",
    "print(aci_service_name)\n",
    "aci_service = Model.deploy(ws, aci_service_name, [model], inference_config, aci_config,overwrite=True)\n",
    "aci_service.wait_for_deployment(True)\n",
    "print(aci_service.state)\n",
    "\n"
   ]
  },
  {
   "cell_type": "markdown",
   "metadata": {},
   "source": [
    "# Test your ACI Deployment"
   ]
  },
  {
   "cell_type": "code",
   "execution_count": null,
   "metadata": {},
   "outputs": [],
   "source": [
    "AGE_range = np.arange(19,79,1)\n",
    "SEX_range = np.arange(1,2,1)\n",
    "BMI_range = np.arange(18.0,42.2,0.1)\n",
    "BP_range = np.arange(62, 133, 1)\n",
    "S1_range = np.arange(97, 301, 1)\n",
    "S2_range = np.arange(41.6, 242.4, 0.1)\n",
    "S3_range = np.arange(22, 99, 1)\n",
    "S4_range = np.arange(2, 9.09, 0.01)\n",
    "S5_range = np.arange(3.258, 6.107, 0.001)\n",
    "S6_range = np.arange(58, 124, 1)"
   ]
  },
  {
   "cell_type": "code",
   "execution_count": null,
   "metadata": {},
   "outputs": [],
   "source": [
    "DiabetesList = []\n",
    "columns = ['AGE','SEX','BMI','BP','S1','S2','S3','S4','S5','S6']\n",
    "DiabetesDF = pd.DataFrame(columns=columns)\n",
    "for i in range(0,5):\n",
    "    values = [r.choice(AGE_range), r.choice(SEX_range), r.choice(BMI_range), r.choice(BP_range), r.choice(S1_range),\\\n",
    "              r.choice(S2_range), r.choice(S3_range), r.choice(S4_range), r.choice(S5_range), r.choice(S6_range)]\n",
    "    DiabetesDict = pd.DataFrame(dict(zip(columns, values)),index=[0])\n",
    "    DiabetesList.append(DiabetesDict)\n",
    "DiabetesDF = DiabetesDF.append(DiabetesList,True)"
   ]
  },
  {
   "cell_type": "code",
   "execution_count": null,
   "metadata": {},
   "outputs": [],
   "source": [
    "Dataset.Tabular.register_pandas_dataframe(DiabetesDF, datastore, 'Diabetes Scoring')"
   ]
  },
  {
   "cell_type": "code",
   "execution_count": null,
   "metadata": {},
   "outputs": [],
   "source": [
    "test = '{\"data\":' + DiabetesDF.to_json(orient='records') + '}'"
   ]
  },
  {
   "cell_type": "code",
   "execution_count": null,
   "metadata": {},
   "outputs": [],
   "source": [
    "test"
   ]
  },
  {
   "cell_type": "code",
   "execution_count": null,
   "metadata": {},
   "outputs": [],
   "source": [
    "# Plug in the URL for your ACI web service.  You can find it easily on ML Studio by clicking endpoints.\n",
    "aci_url = 'http://d076efb5-5f09-401b-aa9b-66e4a67aadab.northcentralus.azurecontainer.io/score'\n",
    "\n",
    "# Set the content type to 'application/json'\n",
    "headers = {'Content-Type': 'application/json'}\n",
    "\n",
    "# Make the request and display the response\n",
    "response = requests.post(aci_url, test, headers=headers)\n",
    "print(response.text)"
   ]
  },
  {
   "cell_type": "markdown",
   "metadata": {},
   "source": [
    "# Create an AKS Cluster"
   ]
  },
  {
   "cell_type": "code",
   "execution_count": null,
   "metadata": {},
   "outputs": [],
   "source": [
    "aks_cluster_name = 'aks-code-cluster'\n",
    "vm_type = 'Standard_DS3_v2'\n",
    "node_count = 3\n",
    "AKS_location = 'northcentralus'\n"
   ]
  },
  {
   "cell_type": "code",
   "execution_count": null,
   "metadata": {},
   "outputs": [],
   "source": [
    "prov_config = AksCompute.provisioning_configuration(vm_size = vm_type, agent_count = node_count, location = AKS_location)"
   ]
  },
  {
   "cell_type": "code",
   "execution_count": null,
   "metadata": {},
   "outputs": [],
   "source": [
    "aks_target = ComputeTarget.create(workspace = ws, name = aks_cluster_name, provisioning_configuration = prov_config)\n",
    "aks_target.wait_for_completion(show_output = True)\n"
   ]
  },
  {
   "cell_type": "markdown",
   "metadata": {},
   "source": [
    "# Create a real-time scoring endpoint with AKS"
   ]
  },
  {
   "cell_type": "code",
   "execution_count": null,
   "metadata": {},
   "outputs": [],
   "source": [
    "aks_cluster = AksCompute(ws, 'aks-code-cluster')"
   ]
  },
  {
   "cell_type": "code",
   "execution_count": null,
   "metadata": {},
   "outputs": [],
   "source": [
    "aks_service_name = 'diabetes-scoring-aks' "
   ]
  },
  {
   "cell_type": "code",
   "execution_count": null,
   "metadata": {},
   "outputs": [],
   "source": [
    "aks_config = AksWebservice.deploy_configuration(cpu_cores = 1, \n",
    "                                                memory_gb = 1, \n",
    "                                                tags = {'Project': 'Diabetes'}, \n",
    "                                                description = 'Diabetes Real-Time ACI Deployment')"
   ]
  },
  {
   "cell_type": "code",
   "execution_count": null,
   "metadata": {},
   "outputs": [],
   "source": [
    "aks_service = Model.deploy(ws, aks_service_name, [model], inference_config, aks_config, aks_cluster,overwrite=True)\n",
    "aks_service.wait_for_deployment(show_output = True)"
   ]
  },
  {
   "cell_type": "markdown",
   "metadata": {},
   "source": [
    "# Test your AKS Deployment"
   ]
  },
  {
   "cell_type": "code",
   "execution_count": null,
   "metadata": {},
   "outputs": [],
   "source": [
    "aks_url = 'http://52.240.156.69:80/api/v1/service/diabetes-scoring-aks/score'\n",
    "key = 'Ps8mFqJfcGpY4RxYAU63U7e3wgOTCKe1'\n",
    "headers = {'Content-Type': 'application/json'}\n",
    "headers['Authorization'] = f'Bearer {key}'"
   ]
  },
  {
   "cell_type": "code",
   "execution_count": null,
   "metadata": {},
   "outputs": [],
   "source": [
    "resp = requests.post(aks_url, test, headers=headers)\n",
    "print(resp.text)"
   ]
  },
  {
   "cell_type": "code",
   "execution_count": null,
   "metadata": {},
   "outputs": [],
   "source": []
  }
 ],
 "metadata": {
  "kernelspec": {
   "display_name": "Python 3.6 - AzureML",
   "language": "python",
   "name": "python3-azureml"
  },
  "language_info": {
   "codemirror_mode": {
    "name": "ipython",
    "version": 3
   },
   "file_extension": ".py",
   "mimetype": "text/x-python",
   "name": "python",
   "nbconvert_exporter": "python",
   "pygments_lexer": "ipython3",
   "version": "3.6.9"
  }
 },
 "nbformat": 4,
 "nbformat_minor": 4
}
