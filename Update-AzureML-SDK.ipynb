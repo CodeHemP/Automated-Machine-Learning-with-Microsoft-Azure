{
 "cells": [
  {
   "cell_type": "markdown",
   "metadata": {},
   "source": [
    "# Update AzureML and Restart the Kernel\n",
    "It's a good idea to do this at the start of each project to make sure you're using the latest version of Azure ML.</p>\n",
    "Once you are done updating, click <b>Kernel</b> and then select <b>Restart</b> from the dropdown menu."
   ]
  },
  {
   "cell_type": "markdown",
   "metadata": {},
   "source": [
    "### Check your version of the AzureML Python SDK"
   ]
  },
  {
   "cell_type": "code",
   "execution_count": null,
   "metadata": {},
   "outputs": [],
   "source": [
    "import azureml.core\n",
    "print(\"You are currently using version \" + azureml.core.VERSION + \" of the Azure ML SDK\")"
   ]
  },
  {
   "cell_type": "markdown",
   "metadata": {},
   "source": [
    "### Update Azure ML Core\n",
    "This is the main package you should regularly update while developing your code."
   ]
  },
  {
   "cell_type": "code",
   "execution_count": null,
   "metadata": {},
   "outputs": [],
   "source": [
    "%pip install --upgrade azureml-sdk"
   ]
  },
  {
   "cell_type": "markdown",
   "metadata": {},
   "source": [
    "### Update Azure ML Extra Packages\n",
    "The Azure ML Python SDK includes a number of extra packages that you will want to keep up to date."
   ]
  },
  {
   "cell_type": "code",
   "execution_count": null,
   "metadata": {},
   "outputs": [],
   "source": [
    "%pip install --upgrade azureml-sdk[accel-models,automl,contrib,databricks,explain,interpret,notebooks,services,tensorboard]"
   ]
  },
  {
   "cell_type": "markdown",
   "metadata": {},
   "source": [
    "### Check for any auxillary and test packages beginning with Azure ML to Update them"
   ]
  },
  {
   "cell_type": "code",
   "execution_count": null,
   "metadata": {},
   "outputs": [],
   "source": [
    "!pip freeze azureml-"
   ]
  },
  {
   "cell_type": "markdown",
   "metadata": {},
   "source": [
    "### Update any package you find that begins with \"azureml-\" and whose version is lower than \"azureml-core\"\n",
    "\n",
    "#### Ignore contrib packages as these are in development\n",
    "\n",
    "Look at the results of your pip freeze to find packages to update. Below is a list of packages as of March 2nd, 2021."
   ]
  },
  {
   "cell_type": "code",
   "execution_count": null,
   "metadata": {},
   "outputs": [],
   "source": [
    "%pip install --upgrade azureml-cli-common\n",
    "%pip install --upgrade azureml-datadrift\n",
    "%pip install --upgrade azureml-dataprep\n",
    "%pip install --upgrade azureml-mlflow\n",
    "%pip install --upgrade azureml-model-management-sdk\n",
    "%pip install --upgrade azureml-monitoring\n",
    "%pip install --upgrade azureml-opendatasets\n",
    "%pip install --upgrade azureml-samples"
   ]
  }
 ],
 "metadata": {
  "kernelspec": {
   "display_name": "Python 3.6 - AzureML",
   "language": "python",
   "name": "python3-azureml"
  },
  "language_info": {
   "codemirror_mode": {
    "name": "ipython",
    "version": 3
   },
   "file_extension": ".py",
   "mimetype": "text/x-python",
   "name": "python",
   "nbconvert_exporter": "python",
   "pygments_lexer": "ipython3",
   "version": "3.6.9"
  }
 },
 "nbformat": 4,
 "nbformat_minor": 4
}
