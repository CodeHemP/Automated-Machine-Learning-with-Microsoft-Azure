{
 "cells": [
  {
   "cell_type": "code",
   "execution_count": null,
   "metadata": {},
   "outputs": [],
   "source": [
    "# Load Azure Libaries\n",
    "from azureml.core import Workspace, Dataset, Datastore, Experiment\n",
    "from azureml.core.compute import ComputeTarget\n",
    "from azureml.train.automl import AutoMLConfig\n",
    "from azureml.train.automl.run import AutoMLRun\n",
    "from azureml.widgets import RunDetails\n",
    "\n",
    "# Load Non-Azure Libraries\n",
    "import pandas as pd\n",
    "import numpy as np"
   ]
  },
  {
   "cell_type": "code",
   "execution_count": null,
   "metadata": {},
   "outputs": [],
   "source": [
    "# Check the base version of AzureMl\n",
    "import azureml.core\n",
    "print(\"You are currently using version \" + azureml.core.VERSION + \" of the Azure ML SDK\")"
   ]
  },
  {
   "cell_type": "code",
   "execution_count": null,
   "metadata": {},
   "outputs": [],
   "source": [
    "# Retrieve your workspace by name by filling in the lower case values between double quotes\n",
    "ws = Workspace.from_config()"
   ]
  },
  {
   "cell_type": "code",
   "execution_count": null,
   "metadata": {},
   "outputs": [],
   "source": [
    "# Retrieve your Compute Target for Running AutoML Remotely\n",
    "compute_name = 'compute-cluster'\n",
    "compute_target = ComputeTarget(ws, compute_name)"
   ]
  },
  {
   "cell_type": "code",
   "execution_count": null,
   "metadata": {},
   "outputs": [],
   "source": [
    "# Retrieve your Datastore by name by filling in the lower case values between double quotes\n",
    "datastore = Datastore.get_default(ws)\n",
    "my_datastore_name = 'workspaceblobstore'\n",
    "my_datastore = Datastore.get(ws, my_datastore_name)"
   ]
  },
  {
   "cell_type": "code",
   "execution_count": null,
   "metadata": {},
   "outputs": [],
   "source": [
    "# If you have already made the Diabetes dataset, retrieve it\n",
    "dataset_name = \"Diabetes Sample\"\n",
    "dataset = Dataset.get_by_name(ws, dataset_name, version='latest')"
   ]
  },
  {
   "cell_type": "code",
   "execution_count": null,
   "metadata": {},
   "outputs": [],
   "source": [
    "# If you have not already made the Diabetes dataset, register it\n",
    "\n",
    "# import the Diabetes open dataset\n",
    "from azureml.opendatasets import Diabetes\n",
    "\n",
    "# Retrieve the Diabetes Dataset\n",
    "diabetes = Diabetes.get_tabular_dataset()\n",
    "\n",
    "# Register the Dataset\n",
    "# Set the dataset name, description and tags as you wish\n",
    "data_registered = diabetes.register(workspace=ws,\n",
    "                                              name='Diabetes Sample', \n",
    "                                              description='Sample Diabetes Data from Azure Open Datasets', \n",
    "                                              tags= {'fileType': 'Tabular', \"project\" : \"Diabetes\"}, \n",
    "                                              create_new_version=True)"
   ]
  },
  {
   "cell_type": "code",
   "execution_count": null,
   "metadata": {},
   "outputs": [],
   "source": [
    "# View your dataset by converting to pandas\n",
    "dataset.take(10).to_pandas_dataframe()"
   ]
  },
  {
   "cell_type": "code",
   "execution_count": null,
   "metadata": {},
   "outputs": [],
   "source": [
    "# Turn your dataset into a Pandas dataframe\n",
    "dfRaw = dataset.to_pandas_dataframe()\n",
    "\n",
    "# Drop the Age and Sex Columns\n",
    "df = dfRaw.drop(['AGE','SEX'], axis=1)"
   ]
  },
  {
   "cell_type": "code",
   "execution_count": null,
   "metadata": {},
   "outputs": [],
   "source": [
    "# Register a new Dataset using the Dataframe with the Age and Sex columns dropped\n",
    "Dataset.Tabular.register_pandas_dataframe(df, datastore,\n",
    "                                          \"Diabetes Sample Age/Sex Dropped\")"
   ]
  },
  {
   "cell_type": "code",
   "execution_count": null,
   "metadata": {},
   "outputs": [],
   "source": [
    "# Create a name for your AutoML Diabetes Regression Experiment\n",
    "experiment_name = 'Diabetes-Sample-Regression'\n",
    "\n",
    "# Set the Experiment to your Workspace\n",
    "exp = Experiment(workspace=ws, name=experiment_name)"
   ]
  },
  {
   "cell_type": "code",
   "execution_count": null,
   "metadata": {},
   "outputs": [],
   "source": [
    "# Set variables for your AutoML Run\n",
    "target_column = 'Y'\n",
    "task = 'regression'\n",
    "primary_metric = 'normalized_root_mean_squared_error'\n",
    "featurization = 'auto'"
   ]
  },
  {
   "cell_type": "code",
   "execution_count": null,
   "metadata": {},
   "outputs": [],
   "source": [
    "# Set your AutoML Configuration\n",
    "config = AutoMLConfig(task=task,\n",
    "                     primary_metric=primary_metric,\n",
    "                     featurization=featurization,\n",
    "                     compute_target=compute_target,\n",
    "                     training_data=dataset,\n",
    "                     label_column_name=target_column,\n",
    "                     experiment_timeout_minutes=15,\n",
    "                     enable_early_stopping=True,\n",
    "                     n_cross_validations=5,\n",
    "                     model_explainability=True)"
   ]
  },
  {
   "cell_type": "code",
   "execution_count": null,
   "metadata": {},
   "outputs": [],
   "source": [
    "# Train your AutoML Diabetes Regression Model\n",
    "AutoML_run = exp.submit(config, show_output = True)\n",
    "RunDetails(AutoML_run).show()"
   ]
  },
  {
   "cell_type": "code",
   "execution_count": null,
   "metadata": {},
   "outputs": [],
   "source": [
    "# Register your Trained AutoML Model to your AMLS Workspace\n",
    "description = 'Best AutoML Regression Run using Diabetes Sample Data. This model requires the Age and Sex Columns.' \n",
    "tags = {'project' : \"Diabetes\", \"creator\" : \"your name\"} \n",
    "model_name = 'Diabetes-AllData-Regression-AutoML' \n",
    "\n",
    "AutoML_run.register_model(model_name=model_name,description=description,tags=tags)"
   ]
  },
  {
   "cell_type": "code",
   "execution_count": null,
   "metadata": {},
   "outputs": [],
   "source": [
    "# Register your Trained AutoML Model to your AMLS Workspace using R2 Score instead of Normalized Root Mean Squared Error\n",
    "description = 'Best AutoML Regression Run using Diabetes Sample Data. This model requires the Age and Sex Columns.' \n",
    "tags = {'project' : \"Diabetes\", \"creator\" : \"your name\", \"metric\" : \"R2\"} \n",
    "model_name = 'Diabetes-AllData-Regression-AutoML-R2' \n",
    "AutoML_run.register_model(model_name=model_name, description=description, tags=tags, metric = 'r2_score')\n"
   ]
  }
 ],
 "metadata": {
  "kernelspec": {
   "display_name": "Python 3.6 - AzureML",
   "language": "python",
   "name": "python3-azureml"
  },
  "language_info": {
   "codemirror_mode": {
    "name": "ipython",
    "version": 3
   },
   "file_extension": ".py",
   "mimetype": "text/x-python",
   "name": "python",
   "nbconvert_exporter": "python",
   "pygments_lexer": "ipython3",
   "version": "3.6.9"
  }
 },
 "nbformat": 4,
 "nbformat_minor": 4
}
