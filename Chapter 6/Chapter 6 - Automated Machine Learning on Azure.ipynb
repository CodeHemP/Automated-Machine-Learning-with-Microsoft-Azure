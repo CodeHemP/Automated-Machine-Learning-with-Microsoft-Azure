{
 "cells": [
  {
   "cell_type": "code",
   "execution_count": null,
   "metadata": {},
   "outputs": [],
   "source": [
    "from azureml.core import Workspace, Dataset, Datastore\n",
    "from azureml.core import Experiment\n",
    "from azureml.core.compute import ComputeTarget\n",
    "from azureml.train.automl import AutoMLConfig\n",
    "from azureml.train.automl.run import AutoMLRun\n",
    "from azureml.widgets import RunDetails\n",
    "from azureml.opendatasets import OjSalesSimulated\n",
    "from azureml.automl.core.forecasting_parameters import ForecastingParameters"
   ]
  },
  {
   "cell_type": "code",
   "execution_count": null,
   "metadata": {},
   "outputs": [],
   "source": [
    "import pandas as pd\n",
    "import numpy as np\n",
    "import os\n",
    "from pathlib import Path"
   ]
  },
  {
   "cell_type": "code",
   "execution_count": null,
   "metadata": {},
   "outputs": [],
   "source": [
    "ws = Workspace.from_config()"
   ]
  },
  {
   "cell_type": "code",
   "execution_count": null,
   "metadata": {},
   "outputs": [],
   "source": [
    "compute_name = 'compute-cluster'\n",
    "compute_target = ComputeTarget(ws, compute_name)"
   ]
  },
  {
   "cell_type": "code",
   "execution_count": null,
   "metadata": {},
   "outputs": [],
   "source": [
    "datastore = Datastore.get_default(ws)\n",
    "my_datastore_name = 'workspaceblobstore'\n",
    "my_datastore = Datastore.get(ws, my_datastore_name)"
   ]
  },
  {
   "cell_type": "code",
   "execution_count": null,
   "metadata": {},
   "outputs": [],
   "source": [
    "oj_sales_files = OjSalesSimulated.get_file_dataset()\n",
    "oj_sales = oj_sales_files.take(10)"
   ]
  },
  {
   "cell_type": "code",
   "execution_count": null,
   "metadata": {},
   "outputs": [],
   "source": [
    "folder_name = \"OJ_Sales\"\n",
    "os.makedirs(folder_name, exist_ok=True)"
   ]
  },
  {
   "cell_type": "code",
   "execution_count": null,
   "metadata": {},
   "outputs": [],
   "source": [
    "oj_sales.download(folder_name, overwrite=True)"
   ]
  },
  {
   "cell_type": "code",
   "execution_count": null,
   "metadata": {},
   "outputs": [],
   "source": [
    "OJ_file_path = Path('OJ_Sales').rglob('*.csv')\n",
    "OJ_files = [x for x in OJ_file_path]\n",
    "df = pd.concat((pd.read_csv(f) for f in OJ_files))"
   ]
  },
  {
   "cell_type": "code",
   "execution_count": null,
   "metadata": {},
   "outputs": [],
   "source": [
    "df.head(10)"
   ]
  },
  {
   "cell_type": "code",
   "execution_count": null,
   "metadata": {},
   "outputs": [],
   "source": [
    "Dataset.Tabular.register_pandas_dataframe(df, datastore,\n",
    "                            \"OJ Sales Sample\")"
   ]
  },
  {
   "cell_type": "code",
   "execution_count": null,
   "metadata": {},
   "outputs": [],
   "source": [
    "experiment_name = 'OJ-Sales-Forecasting'\n",
    "exp = Experiment(workspace=ws, name=experiment_name)"
   ]
  },
  {
   "cell_type": "code",
   "execution_count": null,
   "metadata": {},
   "outputs": [],
   "source": [
    "dataset_name = \"OJ Sales Sample\"\n",
    "dataset = Dataset.get_by_name(ws, dataset_name, version='latest')"
   ]
  },
  {
   "cell_type": "code",
   "execution_count": null,
   "metadata": {},
   "outputs": [],
   "source": [
    "target_column = 'Quantity'"
   ]
  },
  {
   "cell_type": "code",
   "execution_count": null,
   "metadata": {},
   "outputs": [],
   "source": [
    "task = 'forecasting'"
   ]
  },
  {
   "cell_type": "code",
   "execution_count": null,
   "metadata": {},
   "outputs": [],
   "source": [
    "primary_metric = 'normalized_root_mean_squared_error'"
   ]
  },
  {
   "cell_type": "code",
   "execution_count": null,
   "metadata": {},
   "outputs": [],
   "source": [
    "featurization = 'auto'"
   ]
  },
  {
   "cell_type": "code",
   "execution_count": null,
   "metadata": {},
   "outputs": [],
   "source": [
    "params=ForecastingParameters.from_parameters_dict( {'country_or_region_for_holidays':'US',\\\n",
    "                                                    'drop_columns_names':'Revenue',\\\n",
    "                                                    'forecast_horizon': 6,\\\n",
    "                                                    'target_rolling_window_size': 'auto',\\\n",
    "                                                    'target_lags': 'auto',\\\n",
    "                                                    'feature_lags': 'auto',\\\n",
    "                                                    'seasonality': 'auto',\\\n",
    "                                                    'short_series_handling': True,\\\n",
    "                                                    'use_stl': 'season_trend',\\\n",
    "                                                    'time_column_name':'WeekStarting',\\\n",
    "                                                    'time_series_id_column_names':['Store','Brand'],\\\n",
    "                                                    'short_series_handling_configuration': 'auto'},\\\n",
    "                                                    validate_params=True)"
   ]
  },
  {
   "cell_type": "code",
   "execution_count": null,
   "metadata": {},
   "outputs": [],
   "source": [
    "config = AutoMLConfig(task=task,\n",
    "                     primary_metric=primary_metric,\n",
    "                     featurization=featurization,\n",
    "                     compute_target=compute_target,\n",
    "                     training_data=dataset,\n",
    "                     label_column_name=target_column,\n",
    "                     experiment_timeout_minutes=15,\n",
    "                     enable_early_stopping=True,\n",
    "                     n_cross_validations=3,\n",
    "                     model_explainability=True,\n",
    "                     enable_stack_ensemble=False,\n",
    "                     enable_voting_ensemble=True,\n",
    "                     forecasting_parameters=params)"
   ]
  },
  {
   "cell_type": "code",
   "execution_count": null,
   "metadata": {},
   "outputs": [],
   "source": [
    "AutoML_run = exp.submit(config, show_output = True)\n",
    "RunDetails(remote_run).show()"
   ]
  },
  {
   "cell_type": "code",
   "execution_count": null,
   "metadata": {},
   "outputs": [],
   "source": [
    "params=ForecastingParameters.from_parameters_dict( {'country_or_region_for_holidays':None,\\\n",
    "                                                    'drop_columns_names':['Revenue','Price','Advert'],\\\n",
    "                                                    'forecast_horizon': 6,\\\n",
    "                                                    'target_rolling_window_size': None,\\\n",
    "                                                    'target_lags': None,\\\n",
    "                                                    'feature_lags': None,\\\n",
    "                                                    'seasonality': 'auto',\\\n",
    "                                                    'short_series_handling': True,\\\n",
    "                                                    'use_stl': 'season_trend',\\\n",
    "                                                    'time_column_name':'WeekStarting',\\\n",
    "                                                    'time_series_id_column_names':['Store','Brand'],\n",
    "                                                    'short_series_handling_configuration': 'auto'},\\\n",
    "                                                    validate_params=True)"
   ]
  },
  {
   "cell_type": "code",
   "execution_count": null,
   "metadata": {},
   "outputs": [],
   "source": [
    "AutoML_run = exp.submit(config, show_output = True)\n",
    "RunDetails(remote_run).show()"
   ]
  },
  {
   "cell_type": "code",
   "execution_count": null,
   "metadata": {},
   "outputs": [],
   "source": [
    "description = 'Best AutoML Forecasting Run using OJ Sales Sample Data.' \n",
    "tags = {'project' : \"OJ Sales\", \"creator\" : \"your name\"} \n",
    "model_name = 'OJ-Sales-Sample-Forecasting-AutoML' "
   ]
  },
  {
   "cell_type": "code",
   "execution_count": null,
   "metadata": {},
   "outputs": [],
   "source": [
    "AutoML_run.register_model(model_name=model_name, description=description, tags=tags)"
   ]
  },
  {
   "cell_type": "code",
   "execution_count": null,
   "metadata": {},
   "outputs": [],
   "source": [
    "description = 'Best AutoML Forecasting Run using OJ Sales Sample Data.'\n",
    "tags = {'project' : \"OJ Sales\", \"creator\" : \"your name\", \"metric\" : \"R2 Score\"} \n",
    "model_name = 'OJ-Sales-Sample-Forecasting-AutoML-R2'\n",
    "AutoML_run.register_model(model_name=model_name, description=description, tags=tags, metric = 'r2_score')"
   ]
  },
  {
   "cell_type": "code",
   "execution_count": null,
   "metadata": {},
   "outputs": [],
   "source": [
    "experiment_name = 'OJ-Sales-Forecasting'\n",
    "exp = Experiment(workspace=ws, name=experiment_name) \n",
    "AutoML_run = AutoMLRun(experiment = exp, run_id = 'your_run_id’) \n",
    "description = 'Retrieved AutoML Forecasting Run for OJ Sales Data.'\n",
    "tags = {'project' : \"OJ Sales\", \"creator\" : \"your name\"} \n",
    "model_name = 'OJ-Sales-Sample-Forecasting-AutoML-Retrieved'\n",
    "AutoML_run.register_model(model_name=model_name, description=description, tags=tags)"
   ]
  }
 ],
 "metadata": {
  "kernelspec": {
   "display_name": "Python 3.6 - AzureML",
   "language": "python",
   "name": "python3-azureml"
  },
  "language_info": {
   "codemirror_mode": {
    "name": "ipython",
    "version": 3
   },
   "file_extension": ".py",
   "mimetype": "text/x-python",
   "name": "python",
   "nbconvert_exporter": "python",
   "pygments_lexer": "ipython3",
   "version": "3.6.9"
  }
 },
 "nbformat": 4,
 "nbformat_minor": 4
}
