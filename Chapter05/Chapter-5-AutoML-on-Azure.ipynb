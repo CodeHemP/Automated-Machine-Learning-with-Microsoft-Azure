{
 "cells": [
  {
   "cell_type": "code",
   "execution_count": null,
   "metadata": {},
   "outputs": [],
   "source": [
    "# Load Azure Libaries\n",
    "from azureml.core import Workspace, Dataset, Datastore, Experiment\n",
    "from azureml.core.compute import ComputeTarget\n",
    "from azureml.train.automl import AutoMLConfig\n",
    "from azureml.train.automl.run import AutoMLRun\n",
    "from azureml.widgets import RunDetails\n",
    "\n",
    "# Load Non-Azure Libraries\n",
    "import pandas as pd\n",
    "import numpy as np"
   ]
  },
  {
   "cell_type": "code",
   "execution_count": null,
   "metadata": {},
   "outputs": [],
   "source": [
    "# Check the base version of AzureMl\n",
    "import azureml.core\n",
    "print(\"You are currently using version \" + azureml.core.VERSION + \" of the Azure ML SDK\")"
   ]
  },
  {
   "cell_type": "code",
   "execution_count": null,
   "metadata": {},
   "outputs": [],
   "source": [
    "# Retrieve your workspace by name by filling in the lower case values between double quotes\n",
    "ws = Workspace.from_config()"
   ]
  },
  {
   "cell_type": "code",
   "execution_count": null,
   "metadata": {},
   "outputs": [],
   "source": [
    "# Retrieve your Compute Target for Running AutoML Remotely\n",
    "compute_name = 'compute-cluster'\n",
    "compute_target = ComputeTarget(ws, compute_name)"
   ]
  },
  {
   "cell_type": "code",
   "execution_count": null,
   "metadata": {},
   "outputs": [],
   "source": [
    "# Retrieve your Datastore by name by filling in the lower case values between double quotes\n",
    "datastore = Datastore.get_default(ws)\n",
    "my_datastore_name = 'workspaceblobstore'\n",
    "my_datastore = Datastore.get(ws, my_datastore_name)"
   ]
  },
  {
   "cell_type": "code",
   "execution_count": null,
   "metadata": {},
   "outputs": [],
   "source": [
    "# If you have already registered your Dataset, retrieve it\n",
    "dataset_name = \"Titanic Training Data\"\n",
    "dataset = Dataset.get_by_name(ws, dataset_name, version='latest')"
   ]
  },
  {
   "cell_type": "code",
   "execution_count": null,
   "metadata": {},
   "outputs": [],
   "source": [
    "# If you have not registered your Dataset, use the following code\n",
    "\n",
    "# First, upload the titanic.csv to your Jupyter Notebook\n",
    "titanic_data_raw = pd.read_csv('titanic.csv')\n",
    "\n",
    "# Drop columns superfluous to training\n",
    "titanic_data = titanic_data_raw.drop(['PassengerId','Name','Ticket','Cabin'], axis = 1)\n",
    "\n",
    "# Register the Titanic data as a Dataset to your Datastore\n",
    "Dataset.Tabular.register_pandas_dataframe(titanic_data, datastore,\n",
    "                                          \"Titanic Training Data\")"
   ]
  },
  {
   "cell_type": "code",
   "execution_count": null,
   "metadata": {},
   "outputs": [],
   "source": [
    "# View your dataset by converting to pandas\n",
    "dataset.take(10).to_pandas_dataframe()"
   ]
  },
  {
   "cell_type": "code",
   "execution_count": null,
   "metadata": {},
   "outputs": [],
   "source": [
    "# Discover the mean Age by Passenger Gender\n",
    "dfRaw = dataset.to_pandas_dataframe()\n",
    "round(dfRaw.groupby(['Sex'])['Age'].mean())"
   ]
  },
  {
   "cell_type": "code",
   "execution_count": null,
   "metadata": {},
   "outputs": [],
   "source": [
    "# Replace null values with the mean Age by Passenger Gender\n",
    "dfRaw['Age'] = dfRaw.apply(\n",
    "    lambda row: 31 if np.isnan(row['Age'])\\\n",
    "    and row['Sex']=='male'\\\n",
    "    else (28 if np.isnan(row['Age'])\\\n",
    "          and row['Sex']=='female'\\\n",
    "    else row['Age']),axis=1)\n"
   ]
  },
  {
   "cell_type": "code",
   "execution_count": null,
   "metadata": {},
   "outputs": [],
   "source": [
    "# Bin the Age Column into 4 Age Bins\n",
    "dfRaw['BinUnder15'] = np.where(dfRaw.Age < 15,1,0)\n",
    "dfRaw['Bin15to34'] = np.where((dfRaw.Age>14)\\\n",
    "                              & (dfRaw.Age < 35),1,0)\n",
    "dfRaw['Bin35to60'] = np.where((dfRaw.Age>34)\\\n",
    "                              & (dfRaw.Age < 61),1,0)\n",
    "dfRaw['BinOver60'] = np.where(dfRaw.Age > 60,1,0)"
   ]
  },
  {
   "cell_type": "code",
   "execution_count": null,
   "metadata": {},
   "outputs": [],
   "source": [
    "# Drop the Age Column after binning it\n",
    "df = dfRaw.drop(['Age'],axis=1)"
   ]
  },
  {
   "cell_type": "code",
   "execution_count": null,
   "metadata": {},
   "outputs": [],
   "source": [
    "# Register the Transformed Titanic Data to your Datastore\n",
    "Dataset.Tabular.register_pandas_dataframe(df, datastore,\n",
    "                                          \"Titanic Transformed\")"
   ]
  },
  {
   "cell_type": "code",
   "execution_count": null,
   "metadata": {},
   "outputs": [],
   "source": [
    "# Retrieve your Transformed Titanic Dataset\n",
    "dataset_name = \"Titanic Transformed\"\n",
    "dataset = Dataset.get_by_name(ws, dataset_name, version='latest')"
   ]
  },
  {
   "cell_type": "code",
   "execution_count": null,
   "metadata": {},
   "outputs": [],
   "source": [
    "# Create a name for your AutoML Titanic Classification Experiment\n",
    "experiment_name = 'Titanic-Transformed-Classification'\n",
    "\n",
    "# Set the Experiment to your Workspace\n",
    "exp = Experiment(workspace=ws, name=experiment_name)"
   ]
  },
  {
   "cell_type": "code",
   "execution_count": null,
   "metadata": {},
   "outputs": [],
   "source": [
    "# Set variables for your AutoML Run\n",
    "target_column = 'Survived'\n",
    "task = 'classification'\n",
    "primary_metric = 'accuracy'\n",
    "featurization = 'auto'"
   ]
  },
  {
   "cell_type": "code",
   "execution_count": null,
   "metadata": {},
   "outputs": [],
   "source": [
    "# Set the number of unique classes in your Target Column\n",
    "num_classes = df[target_column].nunique() "
   ]
  },
  {
   "cell_type": "code",
   "execution_count": null,
   "metadata": {},
   "outputs": [],
   "source": [
    "# Set your AutoML Configuration\n",
    "config = AutoMLConfig(task=task,\n",
    "                     primary_metric=primary_metric,\n",
    "                     num_classes=num_classes,\n",
    "                     featurization=featurization,\n",
    "                     compute_target=compute_target,\n",
    "                     training_data=dataset,\n",
    "                     label_column_name=target_column,\n",
    "                     experiment_timeout_minutes=15,\n",
    "                     enable_early_stopping=True,\n",
    "                     n_cross_validations=5,\n",
    "                     model_explainability=True,\n",
    "                     enable_stack_ensemble=True,\n",
    "                     enable_voting_ensemble=True)"
   ]
  },
  {
   "cell_type": "code",
   "execution_count": null,
   "metadata": {
    "scrolled": true
   },
   "outputs": [],
   "source": [
    "# Train your AutoML Titanic Classification Model\n",
    "AutoML_run = exp.submit(config, show_output = True)\n",
    "RunDetails(AutoML_run).show()"
   ]
  },
  {
   "cell_type": "code",
   "execution_count": null,
   "metadata": {},
   "outputs": [],
   "source": [
    "# Register your Trained AutoML Model to your AMLS Workspace\n",
    "description = 'Best AutoML Classification Run using Transformed Titanic Data.' \n",
    "tags = {'project' : \"Titanic\", \"creator\" : \"your name\"} \n",
    "model_name = 'Titanic-Transformed-Classification-AutoML' \n",
    "\n",
    "AutoML_run.register_model(model_name=model_name,description=description,tags=tags)"
   ]
  },
  {
   "cell_type": "code",
   "execution_count": null,
   "metadata": {},
   "outputs": [],
   "source": [
    "# Register your Trained AutoML Model to your AMLS Workspace using a different metric instead of accuracy\n",
    "description = 'Best AutoML Classification Run using Transformed Titanic Data.' \n",
    "tags = {'project' : \"Titanic\", \"creator\" : \"your name\", \"metric\" : \"Norm Macro Recall\"} \n",
    "model_name = 'Titanic-Transformed-Classification-AutoML-NMR' \n",
    "AutoML_run.register_model(model_name=model_name, description=description, tags=tags, metric = 'norm_macro_recall')\n"
   ]
  }
 ],
 "metadata": {
  "kernelspec": {
   "display_name": "Python 3.6 - AzureML",
   "language": "python",
   "name": "python3-azureml"
  },
  "language_info": {
   "codemirror_mode": {
    "name": "ipython",
    "version": 3
   },
   "file_extension": ".py",
   "mimetype": "text/x-python",
   "name": "python",
   "nbconvert_exporter": "python",
   "pygments_lexer": "ipython3",
   "version": "3.6.9"
  }
 },
 "nbformat": 4,
 "nbformat_minor": 4
}
