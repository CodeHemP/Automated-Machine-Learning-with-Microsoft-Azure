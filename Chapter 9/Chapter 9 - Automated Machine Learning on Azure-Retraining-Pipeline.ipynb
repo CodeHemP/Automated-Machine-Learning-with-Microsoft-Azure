{
 "cells": [
  {
   "cell_type": "code",
   "execution_count": null,
   "metadata": {},
   "outputs": [],
   "source": [
    "from azureml.core import Workspace, Dataset, Datastore\n",
    "from azureml.core import Experiment, Environment, Model\n",
    "from azureml.core.compute import ComputeTarget\n",
    "from azureml.train.automl import AutoMLConfig"
   ]
  },
  {
   "cell_type": "code",
   "execution_count": null,
   "metadata": {},
   "outputs": [],
   "source": [
    "from azureml.core.runconfig import RunConfiguration, CondaDependencies, DEFAULT_CPU_IMAGE\n",
    "from azureml.pipeline.steps import PythonScriptStep, AutoMLStep\n",
    "from azureml.pipeline.core import Pipeline, PublishedPipeline, PipelineData, TrainingOutput, PipelineRun\n",
    "from azureml.pipeline.core import StepSequence \n",
    "from azureml.widgets import RunDetails"
   ]
  },
  {
   "cell_type": "code",
   "execution_count": null,
   "metadata": {},
   "outputs": [],
   "source": [
    "import os"
   ]
  },
  {
   "cell_type": "code",
   "execution_count": null,
   "metadata": {},
   "outputs": [],
   "source": [
    "ws = Workspace.from_config()"
   ]
  },
  {
   "cell_type": "code",
   "execution_count": null,
   "metadata": {},
   "outputs": [],
   "source": [
    "compute_name = 'compute-cluster'\n",
    "compute_target = ComputeTarget(ws, compute_name)"
   ]
  },
  {
   "cell_type": "code",
   "execution_count": null,
   "metadata": {},
   "outputs": [],
   "source": [
    "datastore = Datastore.get_default(ws)\n",
    "my_datastore_name = 'workspaceblobstore'\n",
    "my_datastore = Datastore.get(ws, my_datastore_name)"
   ]
  },
  {
   "cell_type": "code",
   "execution_count": null,
   "metadata": {},
   "outputs": [],
   "source": [
    "dataset = Dataset.get_by_name(ws, 'Iris Training')"
   ]
  },
  {
   "cell_type": "code",
   "execution_count": null,
   "metadata": {},
   "outputs": [],
   "source": [
    "Env = Environment.get(ws,'AutoML Environment')"
   ]
  },
  {
   "cell_type": "code",
   "execution_count": null,
   "metadata": {},
   "outputs": [],
   "source": [
    "target_column = 'species'\n",
    "task = 'classification'\n",
    "primary_metric = 'accuracy'\n",
    "featurization = 'auto'\n",
    "num_classes = 3\n",
    "iterations = 4"
   ]
  },
  {
   "cell_type": "code",
   "execution_count": null,
   "metadata": {},
   "outputs": [],
   "source": [
    "config = AutoMLConfig(task=task,\n",
    "                     primary_metric=primary_metric,\n",
    "                     num_classes=num_classes,\n",
    "                     featurization=featurization,\n",
    "                     compute_target=compute_target,\n",
    "                     training_data=dataset,\n",
    "                     label_column_name=target_column,\n",
    "                     experiment_timeout_minutes=15,\n",
    "                     enable_early_stopping=True,\n",
    "                     max_concurrent_iterations = iterations,\n",
    "                     n_cross_validations=5,\n",
    "                     model_explainability=True,\n",
    "                     enable_stack_ensemble=True,\n",
    "                     enable_voting_ensemble=True)"
   ]
  },
  {
   "cell_type": "code",
   "execution_count": null,
   "metadata": {},
   "outputs": [],
   "source": [
    "metrics_data = PipelineData(name='metrics_data',\n",
    "                           datastore=datastore,\n",
    "                           pipeline_output_name='metrics output',\n",
    "                           training_output=TrainingOutput(type='Metrics'))\n",
    "\n",
    "model_data = PipelineData(name='model_data',\n",
    "                           datastore=datastore,\n",
    "                           pipeline_output_name='best_model_output',\n",
    "                           training_output=TrainingOutput(type='Model'))"
   ]
  },
  {
   "cell_type": "code",
   "execution_count": null,
   "metadata": {},
   "outputs": [],
   "source": [
    "automl_training_step = AutoMLStep(\n",
    "    name='Multiclass_AutoML_Step',\n",
    "    automl_config=config,\n",
    "    outputs=[metrics_data, model_data],\n",
    "    allow_reuse=False)"
   ]
  },
  {
   "cell_type": "code",
   "execution_count": null,
   "metadata": {},
   "outputs": [],
   "source": [
    "os.makedirs('Training_Scripts', exist_ok=True)  "
   ]
  },
  {
   "cell_type": "code",
   "execution_count": null,
   "metadata": {},
   "outputs": [],
   "source": [
    "%%writefile Training_Scripts/Iris_Model_Registration.py\n",
    "from azureml.core import Run, Workspace, Model\n",
    "from azureml.core import Dataset, Datastore\n",
    "import argparse\n",
    "\n",
    "run = Run.get_context()\n",
    "\n",
    "parser = argparse.ArgumentParser()\n",
    "parser.add_argument(\"--model_name\", dest=\"model_name\", required=True)\n",
    "parser.add_argument(\"--model_path\", dest=\"model_path\", required=True)\n",
    "parser.add_argument(\"--dataset_name\", dest=\"dataset_name\", required=True)\n",
    "args = parser.parse_args()\n",
    "\n",
    "def main():  \n",
    "    ws = run.experiment.workspace\n",
    "\n",
    "    ds = Dataset.get_by_name(ws, args.dataset_name)\n",
    "    dataset = [(Dataset.Scenario.TRAINING, ds)]\n",
    "\n",
    "    model = Model.register(workspace=ws,\n",
    "                           model_path=args.model_path,\n",
    "                           model_name=args.model_name,\n",
    "                           datasets=dataset)\n",
    "    \n",
    "if __name__ == '__main__':\n",
    "    main()"
   ]
  },
  {
   "cell_type": "code",
   "execution_count": null,
   "metadata": {},
   "outputs": [],
   "source": [
    "run_config = RunConfiguration()\n",
    "run_config.environment = Env\n",
    "run_config.environment.docker.enabled = True\n",
    "run_config.environment.docker.base_image = DEFAULT_CPU_IMAGE"
   ]
  },
  {
   "cell_type": "code",
   "execution_count": null,
   "metadata": {},
   "outputs": [],
   "source": [
    "model_name = 'Iris-Multi-Classification-AutoML'\n",
    "dataset_name = 'Iris Training'"
   ]
  },
  {
   "cell_type": "code",
   "execution_count": null,
   "metadata": {},
   "outputs": [],
   "source": [
    "model_registration_step = PythonScriptStep(script_name=\"Iris_Model_Registration.py\",\n",
    "                                       source_directory = 'Training_Scripts',\n",
    "                                       name=\"Model-Registration-Step\",\n",
    "                                       allow_reuse=False,\n",
    "                                       arguments=[\"--model_name\", model_name, \"--model_path\", model_data,\n",
    "                                                  \"--dataset_name\", dataset_name],\n",
    "                                       inputs=[model_data],\n",
    "                                       compute_target=compute_target,\n",
    "                                       runconfig=run_config)"
   ]
  },
  {
   "cell_type": "code",
   "execution_count": null,
   "metadata": {},
   "outputs": [],
   "source": [
    "step_sequence = StepSequence(steps=[automl_training_step, model_registration_step])\n",
    "pipeline = Pipeline(workspace=ws, steps=step_sequence)"
   ]
  },
  {
   "cell_type": "code",
   "execution_count": null,
   "metadata": {},
   "outputs": [],
   "source": [
    "# Run your pipeline\n",
    "pipeline_experiment = Experiment(ws, 'Iris-AutoML-Training-Pipeline-Run')\n",
    "pipeline_run = pipeline_experiment.submit(pipeline, show_output=True)"
   ]
  },
  {
   "cell_type": "code",
   "execution_count": null,
   "metadata": {
    "scrolled": false
   },
   "outputs": [],
   "source": [
    "RunDetails(pipeline_run).show()\n",
    "pipeline_run.wait_for_completion(show_output=True)"
   ]
  },
  {
   "cell_type": "code",
   "execution_count": null,
   "metadata": {},
   "outputs": [],
   "source": [
    "published_pipeline = pipeline_run.publish_pipeline(\n",
    "    name='Iris-AutoML-Training-Pipeline',\\\n",
    "    description='Pipeline that Trains Iris Data with AutoML', version= '1.0')\n",
    "\n",
    "published_pipeline"
   ]
  },
  {
   "cell_type": "code",
   "execution_count": null,
   "metadata": {},
   "outputs": [],
   "source": [
    "from azureml.pipeline.core import PipelineRun\n",
    "experiment = Experiment(ws, 'your-experiment_name')\n",
    "pipeline_run = PipelineRun(experiment, 'your-pipeline-run-id')"
   ]
  }
 ],
 "metadata": {
  "kernelspec": {
   "display_name": "Python 3.6 - AzureML",
   "language": "python",
   "name": "python3-azureml"
  },
  "language_info": {
   "codemirror_mode": {
    "name": "ipython",
    "version": 3
   },
   "file_extension": ".py",
   "mimetype": "text/x-python",
   "name": "python",
   "nbconvert_exporter": "python",
   "pygments_lexer": "ipython3",
   "version": "3.6.9"
  }
 },
 "nbformat": 4,
 "nbformat_minor": 4
}
