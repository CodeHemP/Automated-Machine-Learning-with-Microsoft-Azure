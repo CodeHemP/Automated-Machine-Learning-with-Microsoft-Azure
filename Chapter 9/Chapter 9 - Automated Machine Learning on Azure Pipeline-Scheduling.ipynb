{
 "cells": [
  {
   "cell_type": "code",
   "execution_count": null,
   "metadata": {},
   "outputs": [],
   "source": [
    "from azureml.core import Workspace, Datastore\n",
    "from azureml.pipeline.core import Pipeline, PublishedPipeline\n",
    "from azureml.core.experiment import Experiment\n",
    "from azureml.pipeline.core.schedule import ScheduleRecurrence, Schedule"
   ]
  },
  {
   "cell_type": "code",
   "execution_count": null,
   "metadata": {},
   "outputs": [],
   "source": [
    "experiment = Experiment(ws,'AutoML-Retraining-Code-Trigger')\n",
    "published_pipeline = PublishedPipeline.get(workspace=ws, id=’your-published-pipeline-id')\n",
    "pipeline_run = experiment.submit(published_pipeline)"
   ]
  },
  {
   "cell_type": "code",
   "execution_count": null,
   "metadata": {},
   "outputs": [],
   "source": [
    "recurrence = ScheduleRecurrence(frequency=\"Day\", interval=1)"
   ]
  },
  {
   "cell_type": "code",
   "execution_count": null,
   "metadata": {},
   "outputs": [],
   "source": [
    "schedule = Schedule.create(ws, name=\"IrisTrainingSchedule\", \n",
    "                            description=\"AutoML Training\",\n",
    "                            pipeline_id='your-pipeline-id’, \n",
    "                            experiment_name='Iris-Retraining', \n",
    "                            recurrence=recurrence)"
   ]
  }
 ],
 "metadata": {
  "kernelspec": {
   "display_name": "Python 3.6 - AzureML",
   "language": "python",
   "name": "python3-azureml"
  },
  "language_info": {
   "codemirror_mode": {
    "name": "ipython",
    "version": 3
   },
   "file_extension": ".py",
   "mimetype": "text/x-python",
   "name": "python",
   "nbconvert_exporter": "python",
   "pygments_lexer": "ipython3",
   "version": "3.6.9"
  }
 },
 "nbformat": 4,
 "nbformat_minor": 4
}
