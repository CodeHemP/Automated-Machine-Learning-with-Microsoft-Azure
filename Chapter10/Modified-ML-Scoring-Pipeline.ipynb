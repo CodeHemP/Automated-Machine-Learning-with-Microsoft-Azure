{
 "cells": [
  {
   "cell_type": "code",
   "execution_count": null,
   "metadata": {},
   "outputs": [],
   "source": [
    "from azureml.core import Workspace, Dataset, Datastore\n",
    "from azureml.core import Environment, Model\n",
    "from azureml.core.compute import ComputeTarget"
   ]
  },
  {
   "cell_type": "code",
   "execution_count": null,
   "metadata": {},
   "outputs": [],
   "source": [
    "from azureml.core.runconfig import RunConfiguration, CondaDependencies, DEFAULT_CPU_IMAGE\n",
    "from azureml.pipeline.steps import PythonScriptStep\n",
    "from azureml.pipeline.core import Pipeline, PublishedPipeline\n",
    "from azureml.pipeline.core import StepSequence\n",
    "from azureml.widgets import RunDetails"
   ]
  },
  {
   "cell_type": "code",
   "execution_count": null,
   "metadata": {},
   "outputs": [],
   "source": [
    "import pandas as pd\n",
    "import numpy as np\n",
    "import os\n",
    "import random as r"
   ]
  },
  {
   "cell_type": "code",
   "execution_count": null,
   "metadata": {},
   "outputs": [],
   "source": [
    "ws = Workspace.from_config()"
   ]
  },
  {
   "cell_type": "code",
   "execution_count": null,
   "metadata": {},
   "outputs": [],
   "source": [
    "compute_name = 'compute-cluster'\n",
    "compute_target = ComputeTarget(ws, compute_name)"
   ]
  },
  {
   "cell_type": "code",
   "execution_count": null,
   "metadata": {},
   "outputs": [],
   "source": [
    "datastore = Datastore.get_default(ws)\n",
    "my_datastore_name = 'workspaceblobstore'\n",
    "my_datastore = Datastore.get(ws, my_datastore_name)"
   ]
  },
  {
   "cell_type": "code",
   "execution_count": null,
   "metadata": {},
   "outputs": [],
   "source": [
    "os.makedirs('Scoring_Scripts', exist_ok=True)  "
   ]
  },
  {
   "cell_type": "code",
   "execution_count": null,
   "metadata": {},
   "outputs": [],
   "source": [
    "%%writefile Scoring_Scripts/Iris_Scoring_Local.py\n",
    "from azureml.core import Run, Workspace\n",
    "from azureml.core import Dataset, Datastore, Model\n",
    "\n",
    "import os\n",
    "import joblib\n",
    "import numpy as np\n",
    "import pandas as pd\n",
    "\n",
    "run = Run.get_context()\n",
    "\n",
    "def main():\n",
    "    ws = run.experiment.workspace\n",
    "    datastore = Datastore.get_default(ws)\n",
    "    model_path = Model.get_model_path('Iris-Multi-Classification-AutoML')\n",
    "    model = joblib.load(model_path)\n",
    "    dataset = Dataset.get_by_name(ws,'Iris Scoring')\n",
    "    scoringDF = dataset.to_pandas_dataframe()\n",
    "    predictions = model.predict(scoringDF)\n",
    "    predSeries = pd.Series(predictions)\n",
    "    scoringDF['Prediction'] = predSeries\n",
    "\n",
    "    output_datastore_path = 'Output_Folder'\n",
    "    os.makedirs(output_datastore_path, exist_ok=True) \n",
    "    FileName = \"Iris_Predictions.csv\"\n",
    "    OutputPath = os.path.join(output_datastore_path, FileName)\n",
    "    scoringDF.to_csv(OutputPath, index = False, sep=',')\n",
    "    datastore.upload_files(files=[OutputPath], target_path=output_datastore_path, overwrite=True)\n",
    "    os.remove(OutputPath)\n",
    "    os.rmdir(output_datastore_path)\n",
    "    \n",
    "if __name__ == '__main__':\n",
    "    main()"
   ]
  },
  {
   "cell_type": "code",
   "execution_count": null,
   "metadata": {},
   "outputs": [],
   "source": [
    "# Create an Environment (collection of Python packages) you will use to run the script\n",
    "Env = Environment(name='AutoML Environment')\n",
    "\n",
    "# Create a CondaDepencies variable\n",
    "conda_dep = CondaDependencies()\n",
    "\n",
    "# Add conda packages\n",
    "conda_dep.add_conda_package(\"numpy==1.18.5\")\n",
    "conda_dep.add_conda_package(\"joblib==0.14.1\")\n",
    "conda_dep.add_conda_package(\"pandas==0.25.3\")\n",
    "conda_dep.add_conda_package(\"packaging==20.7\")\n",
    "conda_dep.add_conda_package(\"xgboost==0.90\")\n",
    "\n",
    "# Add pip packages\n",
    "conda_dep.add_pip_package(\"azureml-defaults==1.19.0\")\n",
    "conda_dep.add_pip_package(\"azureml-automl-core==1.19.0\")\n",
    "conda_dep.add_pip_package(\"azureml-automl-runtime==1.19.0\")\n",
    "\n",
    "# Adds dependencies to PythonSection of myenv\n",
    "Env.python.conda_dependencies=conda_dep\n",
    "\n",
    "# Register the environment to your workspace\n",
    "RegisteredEnvironment = Env.register(workspace=ws)"
   ]
  },
  {
   "cell_type": "code",
   "execution_count": null,
   "metadata": {},
   "outputs": [],
   "source": [
    "run_config = RunConfiguration()\n",
    "run_config.environment = Env\n",
    "run_config.environment.docker.enabled = True\n",
    "run_config.environment.docker.base_image = DEFAULT_CPU_IMAGE"
   ]
  },
  {
   "cell_type": "code",
   "execution_count": null,
   "metadata": {},
   "outputs": [],
   "source": [
    "# Create the training (Estimator) step by filling in all of the parameters\n",
    "scoring_step = PythonScriptStep(name='iris-scoring-step',\n",
    "                                         script_name='Iris_Scoring_Local.py',\n",
    "                                         source_directory='Scoring_Scripts',\n",
    "                                         arguments=[],\n",
    "                                         inputs=[], \n",
    "                                         compute_target=compute_target,\n",
    "                                         runconfig=run_config,\n",
    "                                         allow_reuse=False)"
   ]
  },
  {
   "cell_type": "code",
   "execution_count": null,
   "metadata": {},
   "outputs": [],
   "source": [
    "step_sequence = StepSequence(steps=[scoring_step])\n",
    "pipeline = Pipeline(workspace=ws, steps=step_sequence)"
   ]
  },
  {
   "cell_type": "code",
   "execution_count": null,
   "metadata": {},
   "outputs": [],
   "source": [
    "# Run your pipeline\n",
    "pipeline_experiment = Experiment(ws, 'Iris-Scoring-Pipeline-Run')\n",
    "pipeline_run = pipeline_experiment.submit(pipeline, show_output=True)"
   ]
  },
  {
   "cell_type": "code",
   "execution_count": null,
   "metadata": {},
   "outputs": [],
   "source": [
    "RunDetails(pipeline_run).show()\n",
    "pipeline_run.wait_for_completion(show_output=True)"
   ]
  },
  {
   "cell_type": "code",
   "execution_count": null,
   "metadata": {},
   "outputs": [],
   "source": [
    "published_pipeline = pipeline_run.publish_pipeline(\n",
    "    name='Iris-Local-Scoring-Pipeline',\\\n",
    "    description='Pipeline that Scores Iris Data', version= '1.0')\n",
    "\n",
    "published_pipeline"
   ]
  },
  {
   "cell_type": "code",
   "execution_count": null,
   "metadata": {},
   "outputs": [],
   "source": []
  }
 ],
 "metadata": {
  "kernelspec": {
   "display_name": "Python 3.6 - AzureML",
   "language": "python",
   "name": "python3-azureml"
  },
  "language_info": {
   "codemirror_mode": {
    "name": "ipython",
    "version": 3
   },
   "file_extension": ".py",
   "mimetype": "text/x-python",
   "name": "python",
   "nbconvert_exporter": "python",
   "pygments_lexer": "ipython3",
   "version": "3.6.9"
  }
 },
 "nbformat": 4,
 "nbformat_minor": 4
}
